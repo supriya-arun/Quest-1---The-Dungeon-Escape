{
 "cells": [
  {
   "cell_type": "code",
   "execution_count": 1,
   "id": "14dc3f45-8891-4747-8a43-984fd7abc381",
   "metadata": {},
   "outputs": [],
   "source": [
    "#Define rooms for the dungeon escape\n",
    "\n",
    "dungeon_room = {\n",
    "    \"name\": \"dungeon room\",\n",
    "    \"type\": \"room\",\n",
    "}\n",
    "\n",
    "torture_chamber = {\n",
    "    \"name\": \"torture chamber\",\n",
    "    \"type\": \"room\",\n",
    "}\n",
    "\n",
    "armory = {\n",
    "    \"name\": \"armory\",\n",
    "    \"type\": \"room\",\n",
    "}\n",
    "\n",
    "prison = {\n",
    "    \"name\": \"prison\",\n",
    "    \"type\": \"room\",\n",
    "}\n",
    "\n",
    "outside = {\n",
    "    \"name\": \"outside\",\n",
    "    \"type\": \"room\",\n",
    "}\n",
    "\n",
    "#Define items\n",
    "\n",
    "door_a = {\n",
    "    \"name\": \"door a\",\n",
    "    \"type\": \"door\",\n",
    "}\n",
    "\n",
    "key_a = {\n",
    "    \"name\": \"key for door a\",\n",
    "    \"type\": \"key\",\n",
    "    \"target\": door_a,\n",
    "}\n",
    "\n",
    "door_b = {\n",
    "    \"name\": \"door b\",\n",
    "    \"type\": \"door\",\n",
    "}\n",
    "\n",
    "key_b = {\n",
    "    \"name\": \"key for door b\",\n",
    "    \"type\": \"key\",\n",
    "    \"target\": door_b,\n",
    "}\n",
    "\n",
    "door_c = {\n",
    "    \"name\": \"door c\",\n",
    "    \"type\": \"door\",\n",
    "}\n",
    "\n",
    "key_c = {\n",
    "    \"name\": \"key for door c\",\n",
    "    \"type\": \"key\",\n",
    "    \"target\": door_c,\n",
    "}\n",
    "\n",
    "door_d = {\n",
    "    \"name\": \"door d\",\n",
    "    \"type\": \"door\",\n",
    "}\n",
    "\n",
    "key_d = {\n",
    "    \"name\": \"key for door d\",\n",
    "    \"type\": \"key\",\n",
    "    \"target\": door_d,\n",
    "}\n",
    "\n",
    "ladder = {\n",
    "    \"name\": \"ladder\",\n",
    "    \"type\": \"furniture\",\n",
    "}\n",
    "\n",
    "window = {\n",
    "    \"name\": \"window\",\n",
    "    \"type\": \"furniture\",\n",
    "}\n",
    "\n",
    "chains = {\n",
    "    \"name\": \"chains\",\n",
    "    \"type\": \"furniture\",\n",
    "}\n",
    "\n",
    "armor_stand = {\n",
    "    \"name\": \"armor stand\",\n",
    "    \"type\": \"furniture\",\n",
    "}\n",
    "\n",
    "table = {\n",
    "    \"name\": \"creaky table\",\n",
    "    \"type\": \"furniture\", #touching this will alert the guard\n",
    "}\n",
    "\n",
    "riddle_scroll = {\n",
    "    \"name\": \"riddle scroll\",\n",
    "    \"type\": \"furniture\",\n",
    "}\n",
    "\n",
    "#object relations\n",
    "\n",
    "object_relations = {\n",
    "    \"dungeon room\":[chains, door_a],\n",
    "    \"torture chamber\":[door_a, door_b, armor_stand, riddle_scroll],\n",
    "    \"armory\":[door_b, door_c, table],\n",
    "    \"prison\":[window, ladder],\n",
    "    \"outside\":[window],\n",
    "    \"door a\":[dungeon_room, torture_chamber],\n",
    "    \"door b\": [torture_chamber, armory],\n",
    "    \"door c\": [armory],\n",
    "    \"table\": [\"guard_alert\"], #Guard is alerted when this is touched\n",
    "    \"window\": [prison, outside],\n",
    "    \"ladder\": [prison, window],\n",
    "    \"chains\": [key_a],\n",
    "    \"riddle_scroll\": [key_b],\n",
    "}\n",
    "\n",
    "all_rooms = [dungeon_room, torture_chamber, armory, prison, outside]\n",
    "all_doors = [door_a, door_b, door_c, door_d]"
   ]
  },
  {
   "cell_type": "code",
   "execution_count": 3,
   "id": "89f28101-4a08-43ce-b45c-1135475a015f",
   "metadata": {},
   "outputs": [],
   "source": [
    "\n",
    "#define game state\n",
    "\n",
    "INIT_GAME_STATE = {\n",
    "    \"current_room\": dungeon_room,\n",
    "    \"keys_collected\": [],\n",
    "    \"target_room\": outside,\n",
    "    \"guard_alerted\": False,\n",
    "    \"riddle_solved\": False,\n",
    "}\n",
    "\n",
    "\n",
    "  # @title Default title text\n",
    "def linebreak():\n",
    "  print(\"\\n\\n\")\n",
    "\n",
    "def start_game():\n",
    "  print(\"You find yourself imprisoned in a dark dungeon. You must escape before the guard catches you!\")\n",
    "  play_room(game_state[\"current_room\"])\n",
    "\n",
    "def play_room(room):\n",
    "  game_state[\"current_room\"] = room\n",
    "  if game_state[\"guard_alerted\"] and game_state [\"current_room\"] != prison:\n",
    "    print (\"The guard caught you. You are thrown into the prison\")\n",
    "    game_state [\"current_room\"] = prison\n",
    "    print (\"You need to find a way to escape\")\n",
    "    intended_action = input (\"What would you like to do? Type 'explore' or 'examine'?\").strip()\n",
    "    if intended_action == \"explore\":\n",
    "      explore_room (prison)\n",
    "    elif intended_action == \"examine\":\n",
    "      examine_item (input (\"What would you like to examine?\").strip())\n",
    "      #if examine_item == ladder:\n",
    "        #print (\"You climb the ladder and escape through the window!\")\n",
    "        #game_state [\"current_room\"] = outside\n",
    "        #play_room (outside)\n",
    "    else:\n",
    "      print (\"Not sure what you mean. Type 'explore' or 'examine'.\")\n",
    "    play_room(prison)\n",
    "    return\n",
    "\n",
    "  elif game_state [\"current_room\"] == game_state[\"target_room\"]:\n",
    "    print(\"Congrats! You escaped the dungeon!\")\n",
    "    return\n",
    "  else:\n",
    "    print(\"You are now in \" + room[\"name\"])\n",
    "    intended_action = input(\"What would you like to do? Type 'explore' or 'examine'?\").strip()\n",
    "    if intended_action == \"explore\":\n",
    "      explore_room(room)\n",
    "      play_room(room)\n",
    "    elif intended_action == \"examine\":\n",
    "      examine_item(input(\"What would you like to examine?\").strip())\n",
    "    else:\n",
    "      print(\"Not sure what you mean. Type 'explore' or 'examine'.\")\n",
    "      play_room(room)\n",
    "    linebreak()\n",
    "\n",
    "def explore_room(room):\n",
    "  items = [i[\"name\"] for i in object_relations[room[\"name\"]]]\n",
    "  print(\"You explore the room. This is \" + room[\"name\"] + \". You find \" + \", \".join(items))\n",
    "\n",
    "def get_next_room_of_door(door, current_room):\n",
    "  connected_rooms = object_relations[door[\"name\"]]\n",
    "  for room in connected_rooms:\n",
    "    if(not current_room == room):\n",
    "      return room\n",
    "\n",
    "def solve_riddle ():   #Present a simple riddle to the player to solve\n",
    "  print (\"You found a scroll with a riddle on it: 'I am tall when I am young. I am short when I am old. What am I?'\")\n",
    "  answer = input(\"Your answer: \").strip().lower()\n",
    "  if answer == \"candle\":\n",
    "    print(\"Correct! You find a key for door b hidden behind the scroll\")\n",
    "    game_state [\"riddle_solved\"] = True\n",
    "    key_found = key_b\n",
    "    game_state [\"keys_collected\"].append(key_found)\n",
    "\n",
    "  else:\n",
    "    print(\"wrong answer. Try again later.\")\n",
    "    examine_item (\"riddle scroll\")\n",
    "\n",
    "  play_room(game_state[\"current_room\"])\n",
    "\n",
    "def examine_item(item_name):\n",
    "  current_room = game_state[\"current_room\"]\n",
    "  next_room = \"\"\n",
    "  output = \"\"\n",
    "\n",
    "  for item in object_relations[current_room[\"name\"]]:\n",
    "    if item[\"name\"] == item_name:\n",
    "      output = \"You examine \" + item_name + \". \"\n",
    "      if item[\"type\"] == \"door\":\n",
    "        have_key = False\n",
    "        for key in game_state[\"keys_collected\"]:\n",
    "          if key[\"target\"] == item:\n",
    "            have_key = True\n",
    "            break\n",
    "        if(have_key):\n",
    "          output += \"You unlock it with a key you have.\"\n",
    "          next_room = get_next_room_of_door(item, current_room)\n",
    "        else:\n",
    "          output += \"It is locked but you don't have the key.\"\n",
    "      elif item_name == \"creaky table\":\n",
    "        output += \"The table creaks loudly! The guard is alerted!\"\n",
    "        game_state [\"guard_alerted\"] = True\n",
    "        print (output)\n",
    "        play_room (prison)\n",
    "        return\n",
    "      elif item_name == \"riddle scroll\" and not game_state [\"riddle_solved\"]:\n",
    "        solve_riddle()\n",
    "        return\n",
    "      elif item [\"name\"] == \"ladder\":\n",
    "        print (\"You climb the ladder to the window and escape through it!\")\n",
    "        game_state [\"current_room\"] = outside\n",
    "        print (\"Congrats! You escaped the dungeon!\")\n",
    "        return\n",
    "      elif item [\"type\"] == \"furniture\" and item[\"name\"] in object_relations:\n",
    "        if len (object_relations [item[\"name\"]]) > 0:\n",
    "          item_found = object_relations[item[\"name\"]].pop()\n",
    "          game_state [\"keys_collected\"].append(item_found)\n",
    "          output += \"You find\" + item_found [\"name\"] + \".\"\n",
    "        else:\n",
    "          output += \"There isn't anything interesting about it\"\n",
    "\n",
    "      else:\n",
    "        output += \"There isn't anything iteresting about it\"\n",
    "      print(output)\n",
    "      break\n",
    "\n",
    "  if output == \"\":\n",
    "    print(\"The item you requested is not found in the current room.\")\n",
    "\n",
    "  if next_room and input(\"Do you want to go to the next room? Ener 'yes' or 'no'\").strip() == 'yes':\n",
    "    play_room (next_room)\n",
    "  else:\n",
    "    play_room(current_room)"
   ]
  },
  {
   "cell_type": "code",
   "execution_count": 5,
   "id": "fa6b944f-7467-4ddd-8416-8264bf52a9fb",
   "metadata": {},
   "outputs": [
    {
     "name": "stdout",
     "output_type": "stream",
     "text": [
      "You find yourself imprisoned in a dark dungeon. You must escape before the guard catches you!\n",
      "You are now in dungeon room\n"
     ]
    },
    {
     "name": "stdin",
     "output_type": "stream",
     "text": [
      "What would you like to do? Type 'explore' or 'examine'? explore\n"
     ]
    },
    {
     "name": "stdout",
     "output_type": "stream",
     "text": [
      "You explore the room. This is dungeon room. You find chains, door a\n",
      "You are now in dungeon room\n"
     ]
    },
    {
     "name": "stdin",
     "output_type": "stream",
     "text": [
      "What would you like to do? Type 'explore' or 'examine'? examine\n",
      "What would you like to examine? chains\n"
     ]
    },
    {
     "name": "stdout",
     "output_type": "stream",
     "text": [
      "You examine chains. You findkey for door a.\n",
      "You are now in dungeon room\n"
     ]
    },
    {
     "name": "stdin",
     "output_type": "stream",
     "text": [
      "What would you like to do? Type 'explore' or 'examine'? examine\n",
      "What would you like to examine? door a\n"
     ]
    },
    {
     "name": "stdout",
     "output_type": "stream",
     "text": [
      "You examine door a. You unlock it with a key you have.\n"
     ]
    },
    {
     "name": "stdin",
     "output_type": "stream",
     "text": [
      "Do you want to go to the next room? Ener 'yes' or 'no' yes\n"
     ]
    },
    {
     "name": "stdout",
     "output_type": "stream",
     "text": [
      "You are now in torture chamber\n"
     ]
    },
    {
     "name": "stdin",
     "output_type": "stream",
     "text": [
      "What would you like to do? Type 'explore' or 'examine'? explore\n"
     ]
    },
    {
     "name": "stdout",
     "output_type": "stream",
     "text": [
      "You explore the room. This is torture chamber. You find door a, door b, armor stand, riddle scroll\n",
      "You are now in torture chamber\n"
     ]
    },
    {
     "name": "stdin",
     "output_type": "stream",
     "text": [
      "What would you like to do? Type 'explore' or 'examine'? armor stand\n"
     ]
    },
    {
     "name": "stdout",
     "output_type": "stream",
     "text": [
      "Not sure what you mean. Type 'explore' or 'examine'.\n",
      "You are now in torture chamber\n"
     ]
    },
    {
     "name": "stdin",
     "output_type": "stream",
     "text": [
      "What would you like to do? Type 'explore' or 'examine'? examine\n",
      "What would you like to examine? armor stand\n"
     ]
    },
    {
     "name": "stdout",
     "output_type": "stream",
     "text": [
      "You examine armor stand. There isn't anything iteresting about it\n",
      "You are now in torture chamber\n"
     ]
    },
    {
     "name": "stdin",
     "output_type": "stream",
     "text": [
      "What would you like to do? Type 'explore' or 'examine'? examine\n",
      "What would you like to examine? riddle scroll\n"
     ]
    },
    {
     "name": "stdout",
     "output_type": "stream",
     "text": [
      "You found a scroll with a riddle on it: 'I am tall when I am young. I am short when I am old. What am I?'\n"
     ]
    },
    {
     "name": "stdin",
     "output_type": "stream",
     "text": [
      "Your answer:  candle\n"
     ]
    },
    {
     "name": "stdout",
     "output_type": "stream",
     "text": [
      "Correct! You find a key for door b hidden behind the scroll\n",
      "You are now in torture chamber\n"
     ]
    },
    {
     "name": "stdin",
     "output_type": "stream",
     "text": [
      "What would you like to do? Type 'explore' or 'examine'? examine\n",
      "What would you like to examine? door b\n"
     ]
    },
    {
     "name": "stdout",
     "output_type": "stream",
     "text": [
      "You examine door b. You unlock it with a key you have.\n"
     ]
    },
    {
     "name": "stdin",
     "output_type": "stream",
     "text": [
      "Do you want to go to the next room? Ener 'yes' or 'no' yes\n"
     ]
    },
    {
     "name": "stdout",
     "output_type": "stream",
     "text": [
      "You are now in armory\n"
     ]
    },
    {
     "name": "stdin",
     "output_type": "stream",
     "text": [
      "What would you like to do? Type 'explore' or 'examine'? explore\n"
     ]
    },
    {
     "name": "stdout",
     "output_type": "stream",
     "text": [
      "You explore the room. This is armory. You find door b, door c, creaky table\n",
      "You are now in armory\n"
     ]
    },
    {
     "name": "stdin",
     "output_type": "stream",
     "text": [
      "What would you like to do? Type 'explore' or 'examine'? examine\n",
      "What would you like to examine? creaky table\n"
     ]
    },
    {
     "name": "stdout",
     "output_type": "stream",
     "text": [
      "You examine creaky table. The table creaks loudly! The guard is alerted!\n",
      "You are now in prison\n"
     ]
    },
    {
     "name": "stdin",
     "output_type": "stream",
     "text": [
      "What would you like to do? Type 'explore' or 'examine'? explore\n"
     ]
    },
    {
     "name": "stdout",
     "output_type": "stream",
     "text": [
      "You explore the room. This is prison. You find window, ladder\n",
      "You are now in prison\n"
     ]
    },
    {
     "name": "stdin",
     "output_type": "stream",
     "text": [
      "What would you like to do? Type 'explore' or 'examine'? examine\n",
      "What would you like to examine? ladder\n"
     ]
    },
    {
     "name": "stdout",
     "output_type": "stream",
     "text": [
      "You climb the ladder to the window and escape through it!\n",
      "Congrats! You escaped the dungeon!\n",
      "\n",
      "\n",
      "\n",
      "\n",
      "\n",
      "\n",
      "\n",
      "\n",
      "\n",
      "\n",
      "\n",
      "\n",
      "\n",
      "\n",
      "\n",
      "\n",
      "\n",
      "\n",
      "\n",
      "\n",
      "\n",
      "\n",
      "\n",
      "\n",
      "\n",
      "\n",
      "\n",
      "\n",
      "\n",
      "\n",
      "\n",
      "\n",
      "\n",
      "\n",
      "\n",
      "\n"
     ]
    }
   ],
   "source": [
    "game_state = INIT_GAME_STATE.copy()\n",
    "\n",
    "start_game()"
   ]
  },
  {
   "cell_type": "code",
   "execution_count": null,
   "id": "25ac78e3-b7fa-4143-9ac3-22015563239a",
   "metadata": {},
   "outputs": [],
   "source": []
  }
 ],
 "metadata": {
  "kernelspec": {
   "display_name": "Python 3 (ipykernel)",
   "language": "python",
   "name": "python3"
  },
  "language_info": {
   "codemirror_mode": {
    "name": "ipython",
    "version": 3
   },
   "file_extension": ".py",
   "mimetype": "text/x-python",
   "name": "python",
   "nbconvert_exporter": "python",
   "pygments_lexer": "ipython3",
   "version": "3.12.4"
  }
 },
 "nbformat": 4,
 "nbformat_minor": 5
}
